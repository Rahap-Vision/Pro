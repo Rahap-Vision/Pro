{
  "nbformat": 4,
  "nbformat_minor": 0,
  "metadata": {
    "colab": {
      "provenance": [],
      "authorship_tag": "ABX9TyNcD9BM0uHa+j6HJqmn8unz",
      "include_colab_link": true
    },
    "kernelspec": {
      "name": "python3",
      "display_name": "Python 3"
    },
    "language_info": {
      "name": "python"
    }
  },
  "cells": [
    {
      "cell_type": "markdown",
      "metadata": {
        "id": "view-in-github",
        "colab_type": "text"
      },
      "source": [
        "<a href=\"https://colab.research.google.com/github/garfield-gray/Pro/blob/main/LearningDataE1_101_10.ipynb\" target=\"_parent\"><img src=\"https://colab.research.google.com/assets/colab-badge.svg\" alt=\"Open In Colab\"/></a>"
      ]
    },
    {
      "cell_type": "code",
      "execution_count": 52,
      "metadata": {
        "id": "FjvQwQv9rPEY"
      },
      "outputs": [],
      "source": [
        "import random"
      ]
    },
    {
      "cell_type": "code",
      "source": [
        "def flip():\n",
        "  return random.choice([\"H\", \"T\"])"
      ],
      "metadata": {
        "id": "MLc6PIl3rdGG"
      },
      "execution_count": 53,
      "outputs": []
    },
    {
      "cell_type": "code",
      "source": [
        "Entire = [[[flip() for f in range(10)]for c in range(1000)] for e in range(5000)]"
      ],
      "metadata": {
        "id": "XLGGHoSNrjVd"
      },
      "execution_count": 54,
      "outputs": []
    },
    {
      "cell_type": "code",
      "source": [
        "C1 = [e[0] for e in Entire]"
      ],
      "metadata": {
        "id": "KIMGtGFlsmPH"
      },
      "execution_count": 55,
      "outputs": []
    },
    {
      "cell_type": "code",
      "source": [
        "rand = [random.randint(0, 999) for e in Entire] "
      ],
      "metadata": {
        "id": "59nlFADWt99W"
      },
      "execution_count": 56,
      "outputs": []
    },
    {
      "cell_type": "code",
      "source": [
        "CHCEntire = [[e[c].count(\"H\") for c in range(1000)] for e in Entire]"
      ],
      "metadata": {
        "id": "c5ffQhnMuw0T"
      },
      "execution_count": 57,
      "outputs": []
    },
    {
      "cell_type": "code",
      "source": [
        "Crand = [e[i] for i,e in zip(rand,Entire)]"
      ],
      "metadata": {
        "id": "henv_ArDwa8Q"
      },
      "execution_count": 58,
      "outputs": []
    },
    {
      "cell_type": "code",
      "source": [
        "Crand[0]"
      ],
      "metadata": {
        "id": "22hsK1ctwgJq",
        "colab": {
          "base_uri": "https://localhost:8080/"
        },
        "outputId": "c131db30-ed11-4926-c6d6-d27c29c1311e"
      },
      "execution_count": 59,
      "outputs": [
        {
          "output_type": "execute_result",
          "data": {
            "text/plain": [
              "['H', 'H', 'T', 'H', 'H', 'H', 'H', 'H', 'T', 'H']"
            ]
          },
          "metadata": {},
          "execution_count": 59
        }
      ]
    },
    {
      "cell_type": "code",
      "source": [
        "rand[0]"
      ],
      "metadata": {
        "colab": {
          "base_uri": "https://localhost:8080/"
        },
        "id": "7EPyx0zXarBG",
        "outputId": "2557ad01-d100-4aba-c005-04c02789a979"
      },
      "execution_count": 60,
      "outputs": [
        {
          "output_type": "execute_result",
          "data": {
            "text/plain": [
              "84"
            ]
          },
          "metadata": {},
          "execution_count": 60
        }
      ]
    },
    {
      "cell_type": "code",
      "source": [
        "Entire[0][131]"
      ],
      "metadata": {
        "colab": {
          "base_uri": "https://localhost:8080/"
        },
        "id": "LBRZ2V7Ca03-",
        "outputId": "a55a8baf-a4f9-459e-8cc4-349c3e28a2a3"
      },
      "execution_count": 61,
      "outputs": [
        {
          "output_type": "execute_result",
          "data": {
            "text/plain": [
              "['T', 'T', 'T', 'T', 'H', 'T', 'H', 'T', 'T', 'H']"
            ]
          },
          "metadata": {},
          "execution_count": 61
        }
      ]
    },
    {
      "cell_type": "code",
      "source": [
        "minind = [e.index(min(e)) for e in CHCEntire]"
      ],
      "metadata": {
        "id": "BwfGCq3ja7PM"
      },
      "execution_count": 62,
      "outputs": []
    },
    {
      "cell_type": "code",
      "source": [
        "minind[90]"
      ],
      "metadata": {
        "colab": {
          "base_uri": "https://localhost:8080/"
        },
        "id": "Z3LHhxhocKy8",
        "outputId": "0a13d38a-5cde-4d23-956e-049aca09fbb9"
      },
      "execution_count": 63,
      "outputs": [
        {
          "output_type": "execute_result",
          "data": {
            "text/plain": [
              "453"
            ]
          },
          "metadata": {},
          "execution_count": 63
        }
      ]
    },
    {
      "cell_type": "code",
      "source": [
        "Entire[90][397]"
      ],
      "metadata": {
        "colab": {
          "base_uri": "https://localhost:8080/"
        },
        "id": "XzOhF_HicPHp",
        "outputId": "f86c5b72-d758-480e-dbd7-8319927175fe"
      },
      "execution_count": 64,
      "outputs": [
        {
          "output_type": "execute_result",
          "data": {
            "text/plain": [
              "['T', 'H', 'T', 'T', 'T', 'T', 'T', 'T', 'T', 'H']"
            ]
          },
          "metadata": {},
          "execution_count": 64
        }
      ]
    },
    {
      "cell_type": "code",
      "source": [
        "Cmin = [e[c] for e,c in zip (Entire, minind)]"
      ],
      "metadata": {
        "id": "cXsCXhTldK_O"
      },
      "execution_count": 65,
      "outputs": []
    },
    {
      "cell_type": "code",
      "source": [
        "Cmin[589]"
      ],
      "metadata": {
        "colab": {
          "base_uri": "https://localhost:8080/"
        },
        "id": "Dh9JzGoKeQTx",
        "outputId": "fdd29e4f-29eb-438e-9601-d995c1195792"
      },
      "execution_count": 66,
      "outputs": [
        {
          "output_type": "execute_result",
          "data": {
            "text/plain": [
              "['T', 'T', 'T', 'T', 'T', 'T', 'T', 'T', 'T', 'T']"
            ]
          },
          "metadata": {},
          "execution_count": 66
        }
      ]
    },
    {
      "cell_type": "code",
      "source": [
        "v1 = [c.count(\"H\")/len(c) for c in C1]\n",
        "vrand = [c.count(\"H\")/len(c) for c in Crand]\n",
        "vmin = [c.count(\"H\")/len(c) for c in Cmin]"
      ],
      "metadata": {
        "id": "N4yKmSnSeVkq"
      },
      "execution_count": 67,
      "outputs": []
    },
    {
      "cell_type": "code",
      "source": [
        "u = [sum(e)/10000 for e in CHCEntire]"
      ],
      "metadata": {
        "id": "zOKdtlIrfCTL"
      },
      "execution_count": 68,
      "outputs": []
    },
    {
      "cell_type": "code",
      "source": [
        "import matplotlib.pyplot as plt\n",
        "import numpy as np\n",
        "\n",
        "plt.figure(figsize=(15,8))\n",
        "plt.hist(u)\n",
        "plt.show() "
      ],
      "metadata": {
        "colab": {
          "base_uri": "https://localhost:8080/",
          "height": 483
        },
        "id": "3LP8WWV8fDNa",
        "outputId": "e587ed67-b4ea-4dbc-e1ec-dd9f0529e14d"
      },
      "execution_count": 80,
      "outputs": [
        {
          "output_type": "display_data",
          "data": {
            "text/plain": [
              "<Figure size 1080x576 with 1 Axes>"
            ],
            "image/png": "[encoded data removed]"
          },
          "metadata": {
            "needs_background": "light"
          }
        }
      ]
    },
    {
      "cell_type": "code",
      "source": [
        "\n",
        "\n",
        "fig, axs = plt.subplots(2, 2)\n",
        "plt.figure(figsize=(15,10))\n",
        "axs[0, 0].hist(v1)\n",
        "axs[0, 0].set_title('v1')\n",
        "axs[0, 1].hist(vrand)\n",
        "axs[0, 1].set_title('vrand')\n",
        "axs[1, 0].hist(vmin)\n",
        "axs[1, 0].set_title('vmin')\n",
        "axs[1, 1].hist(u)\n",
        "axs[1, 1].set_title('u')\n",
        "\n",
        "for ax in axs.flat:\n",
        "    ax.set(xlabel='frequency of Heads', ylabel='frequancy of repeat')\n",
        "\n",
        "# Hide x labels and tick labels for top plots and y ticks for right plots.\n",
        "for ax in axs.flat:\n",
        "    ax.label_outer()"
      ],
      "metadata": {
        "colab": {
          "base_uri": "https://localhost:8080/",
          "height": 312
        },
        "id": "zKKp_skIgDKk",
        "outputId": "e4f6d6d9-2093-48c2-c3eb-44e97e95986d"
      },
      "execution_count": 77,
      "outputs": [
        {
          "output_type": "display_data",
          "data": {
            "text/plain": [
              "<Figure size 432x288 with 4 Axes>"
            ],
            "image/png": "[encoded data removed]"
          },
          "metadata": {
            "needs_background": "light"
          }
        },
        {
          "output_type": "display_data",
          "data": {
            "text/plain": [
              "<Figure size 1080x720 with 0 Axes>"
            ]
          },
          "metadata": {}
        }
      ]
    },
    {
      "cell_type": "code",
      "source": [],
      "metadata": {
        "id": "CfxTtBG2ie3T"
      },
      "execution_count": null,
      "outputs": []
    }
  ]
}